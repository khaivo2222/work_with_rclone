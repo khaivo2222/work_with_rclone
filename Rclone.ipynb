{
  "cells": [
    {
      "cell_type": "markdown",
      "metadata": {
        "id": "view-in-github",
        "colab_type": "text"
      },
      "source": [
        "<a href=\"https://colab.research.google.com/github/khaivo2222/work_with_rclone/blob/main/Rclone.ipynb\" target=\"_parent\"><img src=\"https://colab.research.google.com/assets/colab-badge.svg\" alt=\"Open In Colab\"/></a>"
      ]
    },
    {
      "cell_type": "markdown",
      "metadata": {
        "id": "AFcx8wbx0I1W"
      },
      "source": [
        "# Cài đặt và khởi chạy Rclone"
      ]
    },
    {
      "cell_type": "code",
      "execution_count": null,
      "metadata": {
        "id": "34oUAqPu6Sdi"
      },
      "outputs": [],
      "source": [
        "!sudo -v ; curl https://rclone.org/install.sh | sudo bash"
      ]
    },
    {
      "cell_type": "markdown",
      "source": [
        "# Kết nối google drive\n",
        "Nếu không chuyển file có liên quan tới goole drive thì không cần chạy lệnh này"
      ],
      "metadata": {
        "id": "bAgqoFJmKZlD"
      }
    },
    {
      "cell_type": "code",
      "source": [
        "\n",
        "from google.colab import drive\n",
        "drive.mount('/content/drive')"
      ],
      "metadata": {
        "colab": {
          "base_uri": "https://localhost:8080/"
        },
        "id": "RrLpXF0wcRvh",
        "outputId": "407b32cc-6b14-4479-fb42-c4c9420ea8ac"
      },
      "execution_count": 2,
      "outputs": [
        {
          "output_type": "stream",
          "name": "stdout",
          "text": [
            "Mounted at /content/drive\n"
          ]
        }
      ]
    },
    {
      "cell_type": "markdown",
      "source": [
        "# Tiến hành mount ổ cloud\n",
        "##Sau khi chạy lệnh bên dưới thì nhập theo hướng dẫn của nó\n",
        "nhập [n] để tạo mới > nhập tên > nhập số tương ứng với loại drive (vd mega là 29) > nhập user đăng nhập > nhập [y] > nhập password (nên đăng nhập trước trên web để check file về sau) > confirm lại password > nhập n > nhập y > nhập q để thoát"
      ],
      "metadata": {
        "id": "Zg6xCzU6K0fJ"
      }
    },
    {
      "cell_type": "code",
      "execution_count": null,
      "metadata": {
        "id": "Zv-a1Ha2AouA"
      },
      "outputs": [],
      "source": [
        "!rclone config"
      ]
    },
    {
      "cell_type": "markdown",
      "source": [
        "# Hiện list Folder\n",
        "## Sau khi đã gán được tài khoản theo tên (vd: remote) thì ta sẽ sử dụng tên này đễ hiện list folder mục đầu của ổ drive theo cú pháp:\n",
        "`!rclone lsd [tên]:`\n",
        "---\n"
      ],
      "metadata": {
        "id": "L8t8DIPzOdaK"
      }
    },
    {
      "cell_type": "code",
      "execution_count": null,
      "metadata": {
        "id": "7MozoMOFCZZe"
      },
      "outputs": [],
      "source": [
        "!rclone lsd remote: #nếu lệnh hiện ra các folder có trong drive thì kết nối thành công"
      ]
    },
    {
      "cell_type": "markdown",
      "source": [
        "#  Copy dữ liệu\n",
        "## Sử dụng cú pháp:\n",
        "\n",
        "`!rclone copy [Tên_ổ_nguồn]:[Folder_nguồn] [Tên_ổ_đích]:[Tên_folder] -v`\n",
        "\n",
        "*   Nếu tên thư mục có dấu cách thì thêm cập dấu nháy '' để tránh lỗi\n",
        "\n",
        "*   VD muốn copy toàn bộ file trên goole drive vào thư mục GG_Backup của ổ remote thì chạy lệnh:\n",
        "\n",
        "`!rclone copy /content/drive/MyDrive remote:GG_Backup`\n"
      ],
      "metadata": {
        "id": "3SRhISlQRGls"
      }
    },
    {
      "cell_type": "code",
      "execution_count": null,
      "metadata": {
        "id": "jj_EG0c6C0am"
      },
      "outputs": [],
      "source": [
        "!rclone copy /content/drive/MyDrive remote:GG_Backup -v"
      ]
    },
    {
      "cell_type": "markdown",
      "source": [
        "# Đồng bộ (sync) dữ liệu giữa 2 ổ\n",
        "## Thay chữ copy bằng sync:\n",
        "`!rclone sync [Tên_ổ_nguồn]:[Folder_nguồn] [Tên_ổ_đích]:[Tên_folder] -v`\n",
        "## Nhưng cần lưu ý dữ liệu ở thư mục đích sẽ bị xóa nếu nó không có trong thư mục nguồn\n",
        "\n"
      ],
      "metadata": {
        "id": "aDd4poB-Vqc7"
      }
    },
    {
      "cell_type": "markdown",
      "source": [],
      "metadata": {
        "id": "0gRG3OXsUMr8"
      }
    },
    {
      "cell_type": "code",
      "execution_count": null,
      "metadata": {
        "id": "PD03vPR0XhHx"
      },
      "outputs": [],
      "source": [
        "!rclone sync /content/drive/MyDrive remote:GG_Backup -v"
      ]
    }
  ],
  "metadata": {
    "colab": {
      "provenance": [],
      "toc_visible": true,
      "include_colab_link": true
    },
    "kernelspec": {
      "display_name": "Python 3",
      "name": "python3"
    },
    "language_info": {
      "name": "python"
    }
  },
  "nbformat": 4,
  "nbformat_minor": 0
}