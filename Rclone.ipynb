{
  "cells": [
    {
      "cell_type": "markdown",
      "metadata": {
        "id": "view-in-github",
        "colab_type": "text"
      },
      "source": [
        "<a href=\"https://colab.research.google.com/github/khaivo2222/work_with_rclone/blob/main/Rclone.ipynb\" target=\"_parent\"><img src=\"https://colab.research.google.com/assets/colab-badge.svg\" alt=\"Open In Colab\"/></a>"
      ]
    },
    {
      "cell_type": "markdown",
      "metadata": {
        "id": "AFcx8wbx0I1W"
      },
      "source": [
        "# Cài đặt và khởi chạy Rclone"
      ]
    },
    {
      "cell_type": "code",
      "execution_count": 1,
      "metadata": {
        "colab": {
          "base_uri": "https://localhost:8080/"
        },
        "id": "34oUAqPu6Sdi",
        "outputId": "35f3e3cf-30bd-4637-b560-c389e30c5790"
      },
      "outputs": [
        {
          "output_type": "stream",
          "name": "stdout",
          "text": [
            "  % Total    % Received % Xferd  Average Speed   Time    Time     Time  Current\n",
            "                                 Dload  Upload   Total   Spent    Left  Speed\n",
            "100  4707  100  4707    0     0   3519      0  0:00:01  0:00:01 --:--:--  3517\n",
            "Archive:  rclone-current-linux-amd64.zip\n",
            "   creating: tmp_unzip_dir_for_rclone/rclone-v1.64.0-linux-amd64/\n",
            "  inflating: tmp_unzip_dir_for_rclone/rclone-v1.64.0-linux-amd64/rclone  [binary]\n",
            "  inflating: tmp_unzip_dir_for_rclone/rclone-v1.64.0-linux-amd64/rclone.1  [text]  \n",
            "  inflating: tmp_unzip_dir_for_rclone/rclone-v1.64.0-linux-amd64/README.html  [text]  \n",
            "  inflating: tmp_unzip_dir_for_rclone/rclone-v1.64.0-linux-amd64/git-log.txt  [text]  \n",
            "  inflating: tmp_unzip_dir_for_rclone/rclone-v1.64.0-linux-amd64/README.txt  [text]  \n",
            "Purging old database entries in /usr/share/man...\n",
            "Processing manual pages under /usr/share/man...\n",
            "Purging old database entries in /usr/share/man/cs...\n",
            "Processing manual pages under /usr/share/man/cs...\n",
            "Purging old database entries in /usr/share/man/ko...\n",
            "Processing manual pages under /usr/share/man/ko...\n",
            "Purging old database entries in /usr/share/man/de...\n",
            "Processing manual pages under /usr/share/man/de...\n",
            "Purging old database entries in /usr/share/man/pl...\n",
            "Processing manual pages under /usr/share/man/pl...\n",
            "Purging old database entries in /usr/share/man/zh_CN...\n",
            "Processing manual pages under /usr/share/man/zh_CN...\n",
            "Purging old database entries in /usr/share/man/fr...\n",
            "Processing manual pages under /usr/share/man/fr...\n",
            "Purging old database entries in /usr/share/man/sv...\n",
            "Processing manual pages under /usr/share/man/sv...\n",
            "Purging old database entries in /usr/share/man/da...\n",
            "Processing manual pages under /usr/share/man/da...\n",
            "Purging old database entries in /usr/share/man/ja...\n",
            "Processing manual pages under /usr/share/man/ja...\n",
            "Purging old database entries in /usr/share/man/it...\n",
            "Processing manual pages under /usr/share/man/it...\n",
            "Purging old database entries in /usr/share/man/nl...\n",
            "Processing manual pages under /usr/share/man/nl...\n",
            "Purging old database entries in /usr/share/man/pt_BR...\n",
            "Processing manual pages under /usr/share/man/pt_BR...\n",
            "Purging old database entries in /usr/share/man/id...\n",
            "Processing manual pages under /usr/share/man/id...\n",
            "Purging old database entries in /usr/share/man/sl...\n",
            "Processing manual pages under /usr/share/man/sl...\n",
            "Purging old database entries in /usr/share/man/es...\n",
            "Processing manual pages under /usr/share/man/es...\n",
            "Purging old database entries in /usr/share/man/tr...\n",
            "Processing manual pages under /usr/share/man/tr...\n",
            "Purging old database entries in /usr/share/man/ru...\n",
            "Processing manual pages under /usr/share/man/ru...\n",
            "Purging old database entries in /usr/share/man/hu...\n",
            "Processing manual pages under /usr/share/man/hu...\n",
            "Purging old database entries in /usr/share/man/zh_TW...\n",
            "Processing manual pages under /usr/share/man/zh_TW...\n",
            "Purging old database entries in /usr/share/man/pt...\n",
            "Processing manual pages under /usr/share/man/pt...\n",
            "Purging old database entries in /usr/share/man/uk...\n",
            "Processing manual pages under /usr/share/man/uk...\n",
            "Purging old database entries in /usr/share/man/sr...\n",
            "Processing manual pages under /usr/share/man/sr...\n",
            "Purging old database entries in /usr/share/man/ro...\n",
            "Processing manual pages under /usr/share/man/ro...\n",
            "Processing manual pages under /usr/local/man...\n",
            "mandb: can't update index cache /var/cache/man/oldlocal/400: No such file or directory\n",
            "Updating index cache for path `/usr/local/man/man1'. Wait...mandb: warning: /usr/local/man/man1/rclone.1: whatis parse for rclone(1) failed\n",
            "done.\n",
            "Checking for stray cats under /usr/local/man...\n",
            "Checking for stray cats under /var/cache/man/oldlocal...\n",
            "1 man subdirectory contained newer manual pages.\n",
            "4 manual pages were added.\n",
            "0 stray cats were added.\n",
            "18 old database entries were purged.\n",
            "\n",
            "rclone v1.64.0 has successfully installed.\n",
            "Now run \"rclone config\" for setup. Check https://rclone.org/docs/ for more details.\n",
            "\n"
          ]
        }
      ],
      "source": [
        "!sudo -v ; curl https://rclone.org/install.sh | sudo bash"
      ]
    },
    {
      "cell_type": "markdown",
      "source": [
        "# Kết nối google drive\n",
        "Nếu không chuyển file có liên quan tới goole drive thì không cần chạy lệnh này"
      ],
      "metadata": {
        "id": "bAgqoFJmKZlD"
      }
    },
    {
      "cell_type": "code",
      "source": [
        "\n",
        "from google.colab import drive\n",
        "drive.mount('/content/drive')"
      ],
      "metadata": {
        "colab": {
          "base_uri": "https://localhost:8080/"
        },
        "id": "RrLpXF0wcRvh",
        "outputId": "407b32cc-6b14-4479-fb42-c4c9420ea8ac"
      },
      "execution_count": 2,
      "outputs": [
        {
          "output_type": "stream",
          "name": "stdout",
          "text": [
            "Mounted at /content/drive\n"
          ]
        }
      ]
    },
    {
      "cell_type": "markdown",
      "source": [
        "# Tiến hành mount ổ cloud\n",
        "##Sau khi chạy lệnh bên dưới thì nhập theo hướng dẫn của nó\n",
        "nhập [n] để tạo mới > nhập tên > nhập số tương ứng với loại drive (vd mega là 29) > nhập user đăng nhập > nhập [y] > nhập password (nên đăng nhập trước trên web để check file về sau) > confirm lại password > nhập n > nhập y > nhập q để thoát"
      ],
      "metadata": {
        "id": "Zg6xCzU6K0fJ"
      }
    },
    {
      "cell_type": "code",
      "execution_count": 3,
      "metadata": {
        "colab": {
          "base_uri": "https://localhost:8080/"
        },
        "id": "Zv-a1Ha2AouA",
        "outputId": "a45e413e-05ef-4a79-eba1-98974ffdbad1"
      },
      "outputs": [
        {
          "output_type": "stream",
          "name": "stdout",
          "text": [
            "2023/09/23 17:55:10 NOTICE: Config file \"/root/.config/rclone/rclone.conf\" not found - using defaults\n",
            "No remotes found, make a new one?\n",
            "n) New remote\n",
            "s) Set configuration password\n",
            "q) Quit config\n",
            "n/s/q> n\n",
            "\n",
            "Enter name for new remote.\n",
            "name> adc\n",
            "\n",
            "Option Storage.\n",
            "Type of storage to configure.\n",
            "Choose a number from below, or type in your own value.\n",
            "\u001b[91m 1 / 1Fichier\n",
            "   \\ (fichier)\n",
            "\u001b[0m\u001b[92m 2 / Akamai NetStorage\n",
            "   \\ (netstorage)\n",
            "\u001b[0m\u001b[91m 3 / Alias for an existing remote\n",
            "   \\ (alias)\n",
            "\u001b[0m\u001b[92m 4 / Amazon Drive\n",
            "   \\ (amazon cloud drive)\n",
            "\u001b[0m\u001b[91m 5 / Amazon S3 Compliant Storage Providers including AWS, Alibaba, ArvanCloud, Ceph, China Mobile, Cloudflare, GCS, DigitalOcean, Dreamhost, Huawei OBS, IBM COS, IDrive e2, IONOS Cloud, Leviia, Liara, Lyve Cloud, Minio, Netease, Petabox, RackCorp, Scaleway, SeaweedFS, StackPath, Storj, Synology, Tencent COS, Qiniu and Wasabi\n",
            "   \\ (s3)\n",
            "\u001b[0m\u001b[92m 6 / Backblaze B2\n",
            "   \\ (b2)\n",
            "\u001b[0m\u001b[91m 7 / Better checksums for other remotes\n",
            "   \\ (hasher)\n",
            "\u001b[0m\u001b[92m 8 / Box\n",
            "   \\ (box)\n",
            "\u001b[0m\u001b[91m 9 / Cache a remote\n",
            "   \\ (cache)\n",
            "\u001b[0m\u001b[92m10 / Citrix Sharefile\n",
            "   \\ (sharefile)\n",
            "\u001b[0m\u001b[91m11 / Combine several remotes into one\n",
            "   \\ (combine)\n",
            "\u001b[0m\u001b[92m12 / Compress a remote\n",
            "   \\ (compress)\n",
            "\u001b[0m\u001b[91m13 / Dropbox\n",
            "   \\ (dropbox)\n",
            "\u001b[0m\u001b[92m14 / Encrypt/Decrypt a remote\n",
            "   \\ (crypt)\n",
            "\u001b[0m\u001b[91m15 / Enterprise File Fabric\n",
            "   \\ (filefabric)\n",
            "\u001b[0m\u001b[92m16 / FTP\n",
            "   \\ (ftp)\n",
            "\u001b[0m\u001b[91m17 / Google Cloud Storage (this is not Google Drive)\n",
            "   \\ (google cloud storage)\n",
            "\u001b[0m\u001b[92m18 / Google Drive\n",
            "   \\ (drive)\n",
            "\u001b[0m\u001b[91m19 / Google Photos\n",
            "   \\ (google photos)\n",
            "\u001b[0m\u001b[92m20 / HTTP\n",
            "   \\ (http)\n",
            "\u001b[0m\u001b[91m21 / Hadoop distributed file system\n",
            "   \\ (hdfs)\n",
            "\u001b[0m\u001b[92m22 / HiDrive\n",
            "   \\ (hidrive)\n",
            "\u001b[0m\u001b[91m23 / In memory object storage system.\n",
            "   \\ (memory)\n",
            "\u001b[0m\u001b[92m24 / Internet Archive\n",
            "   \\ (internetarchive)\n",
            "\u001b[0m\u001b[91m25 / Jottacloud\n",
            "   \\ (jottacloud)\n",
            "\u001b[0m\u001b[92m26 / Koofr, Digi Storage and other Koofr-compatible storage providers\n",
            "   \\ (koofr)\n",
            "\u001b[0m\u001b[91m27 / Local Disk\n",
            "   \\ (local)\n",
            "\u001b[0m\u001b[92m28 / Mail.ru Cloud\n",
            "   \\ (mailru)\n",
            "\u001b[0m\u001b[91m29 / Mega\n",
            "   \\ (mega)\n",
            "\u001b[0m\u001b[92m30 / Microsoft Azure Blob Storage\n",
            "   \\ (azureblob)\n",
            "\u001b[0m\u001b[91m31 / Microsoft OneDrive\n",
            "   \\ (onedrive)\n",
            "\u001b[0m\u001b[92m32 / OpenDrive\n",
            "   \\ (opendrive)\n",
            "\u001b[0m\u001b[91m33 / OpenStack Swift (Rackspace Cloud Files, Blomp Cloud Storage, Memset Memstore, OVH)\n",
            "   \\ (swift)\n",
            "\u001b[0m\u001b[92m34 / Oracle Cloud Infrastructure Object Storage\n",
            "   \\ (oracleobjectstorage)\n",
            "\u001b[0m\u001b[91m35 / Pcloud\n",
            "   \\ (pcloud)\n",
            "\u001b[0m\u001b[92m36 / PikPak\n",
            "   \\ (pikpak)\n",
            "\u001b[0m\u001b[91m37 / Proton Drive\n",
            "   \\ (protondrive)\n",
            "\u001b[0m\u001b[92m38 / Put.io\n",
            "   \\ (putio)\n",
            "\u001b[0m\u001b[91m39 / QingCloud Object Storage\n",
            "   \\ (qingstor)\n",
            "\u001b[0m\u001b[92m40 / Quatrix by Maytech\n",
            "   \\ (quatrix)\n",
            "\u001b[0m\u001b[91m41 / SMB / CIFS\n",
            "   \\ (smb)\n",
            "\u001b[0m\u001b[92m42 / SSH/SFTP\n",
            "   \\ (sftp)\n",
            "\u001b[0m\u001b[91m43 / Sia Decentralized Cloud\n",
            "   \\ (sia)\n",
            "\u001b[0m\u001b[92m44 / Storj Decentralized Cloud Storage\n",
            "   \\ (storj)\n",
            "\u001b[0m\u001b[91m45 / Sugarsync\n",
            "   \\ (sugarsync)\n",
            "\u001b[0m\u001b[92m46 / Transparently chunk/split large files\n",
            "   \\ (chunker)\n",
            "\u001b[0m\u001b[91m47 / Union merges the contents of several upstream fs\n",
            "   \\ (union)\n",
            "\u001b[0m\u001b[92m48 / Uptobox\n",
            "   \\ (uptobox)\n",
            "\u001b[0m\u001b[91m49 / WebDAV\n",
            "   \\ (webdav)\n",
            "\u001b[0m\u001b[92m50 / Yandex Disk\n",
            "   \\ (yandex)\n",
            "\u001b[0m\u001b[91m51 / Zoho\n",
            "   \\ (zoho)\n",
            "\u001b[0m\u001b[92m52 / premiumize.me\n",
            "   \\ (premiumizeme)\n",
            "\u001b[0m\u001b[91m53 / seafile\n",
            "   \\ (seafile)\n",
            "\u001b[0mStorage> 29\n",
            "\n",
            "Option user.\n",
            "User name.\n",
            "Enter a value.\n",
            "user> khaivo1111@gmail.com\n",
            "\n",
            "Option pass.\n",
            "Password.\n",
            "Choose an alternative below.\n",
            "y) Yes, type in my own password\n",
            "g) Generate random password\n",
            "y/g> y\n",
            "Enter the password:\n",
            "password:\n",
            "Confirm the password:\n",
            "password:\n",
            "\n",
            "Edit advanced config?\n",
            "y) Yes\n",
            "n) No (default)\n",
            "y/n> n\n",
            "\n",
            "Configuration complete.\n",
            "Options:\n",
            "- type: mega\n",
            "- user: khaivo1111@gmail.com\n",
            "- pass: *** ENCRYPTED ***\n",
            "Keep this \"adc\" remote?\n",
            "y) Yes this is OK (default)\n",
            "e) Edit this remote\n",
            "d) Delete this remote\n",
            "y/e/d> y\n",
            "\n",
            "Current remotes:\n",
            "\n",
            "Name                 Type\n",
            "====                 ====\n",
            "adc                  mega\n",
            "\n",
            "e) Edit existing remote\n",
            "n) New remote\n",
            "d) Delete remote\n",
            "r) Rename remote\n",
            "c) Copy remote\n",
            "s) Set configuration password\n",
            "q) Quit config\n",
            "e/n/d/r/c/s/q> q\n"
          ]
        }
      ],
      "source": [
        "!rclone config"
      ]
    },
    {
      "cell_type": "markdown",
      "source": [
        "# Hiện list Folder\n",
        "## Sau khi đã gán được tài khoản theo tên (vd: remote) thì ta sẽ sử dụng tên này đễ hiện list folder mục đầu của ổ drive theo cú pháp:\n",
        "`!rclone lsd [tên]:`\n",
        "---\n"
      ],
      "metadata": {
        "id": "L8t8DIPzOdaK"
      }
    },
    {
      "cell_type": "code",
      "execution_count": 7,
      "metadata": {
        "colab": {
          "base_uri": "https://localhost:8080/"
        },
        "id": "7MozoMOFCZZe",
        "outputId": "88f098f9-e165-4105-b256-c610ee9cc8e3"
      },
      "outputs": [
        {
          "output_type": "stream",
          "name": "stdout",
          "text": [
            "          -1 2023-09-21 14:11:54        -1 GG_Backup\n",
            "          -1 2023-09-21 14:58:21        -1 Test\n"
          ]
        }
      ],
      "source": [
        "!rclone lsd remote: #nếu lệnh hiện ra các folder có trong drive thì kết nối thành công"
      ]
    },
    {
      "cell_type": "markdown",
      "source": [
        "#  Copy dữ liệu\n",
        "## Sử dụng cú pháp:\n",
        "\n",
        "`!rclone copy [Tên_ổ_nguồn]:[Folder_nguồn] [Tên_ổ_đích]:[Tên_folder] -v`\n",
        "\n",
        "*   Nếu tên thư mục có dấu cách thì thêm cập dấu nháy '' để tránh lỗi\n",
        "\n",
        "*   VD muốn copy toàn bộ file trên goole drive vào thư mục GG_Backup của ổ remote thì chạy lệnh:\n",
        "\n",
        "`!rclone copy /content/drive/MyDrive remote:GG_Backup`\n"
      ],
      "metadata": {
        "id": "3SRhISlQRGls"
      }
    },
    {
      "cell_type": "code",
      "execution_count": 9,
      "metadata": {
        "id": "jj_EG0c6C0am",
        "colab": {
          "base_uri": "https://localhost:8080/"
        },
        "outputId": "0fbae249-3c30-4334-cbef-08102861844f"
      },
      "outputs": [
        {
          "output_type": "stream",
          "name": "stdout",
          "text": [
            "2023/09/23 18:36:26 INFO  : tải playlist youtube v3.py: Copied (new)\n",
            "2023/09/23 18:36:26 INFO  : \n",
            "Transferred:   \t    2.701 KiB / 2.701 KiB, 100%, 2.699 KiB/s, ETA 0s\n",
            "Transferred:            1 / 1, 100%\n",
            "Elapsed time:         4.3s\n",
            "\n"
          ]
        }
      ],
      "source": [
        "!rclone copy /content/drive/MyDrive remote:GG_Backup -v"
      ]
    },
    {
      "cell_type": "markdown",
      "source": [
        "# Đồng bộ (sync) dữ liệu giữa 2 ổ\n",
        "## Thay chữ copy bằng sync:\n",
        "`!rclone sync [Tên_ổ_nguồn]:[Folder_nguồn] [Tên_ổ_đích]:[Tên_folder] -v`\n",
        "## Nhưng cần lưu ý dữ liệu ở thư mục đích sẽ bị xóa nếu nó không có trong thư mục nguồn\n",
        "\n"
      ],
      "metadata": {
        "id": "aDd4poB-Vqc7"
      }
    },
    {
      "cell_type": "markdown",
      "source": [],
      "metadata": {
        "id": "0gRG3OXsUMr8"
      }
    },
    {
      "cell_type": "code",
      "execution_count": null,
      "metadata": {
        "id": "PD03vPR0XhHx",
        "colab": {
          "base_uri": "https://localhost:8080/"
        },
        "outputId": "d6c62dc3-9122-4a30-8ace-3239a92f056d"
      },
      "outputs": [
        {
          "output_type": "stream",
          "name": "stdout",
          "text": [
            "2023/09/21 15:57:06 INFO  : Colab Notebooks/Rclone.ipynb: Copied (new)\n",
            "2023/09/21 15:57:06 INFO  : Colab Notebooks/Rclone_2.ipynb: Deleted\n",
            "2023/09/21 15:57:06 INFO  : \n",
            "Transferred:   \t    6.370 KiB / 6.370 KiB, 100%, 6.364 KiB/s, ETA 0s\n",
            "Checks:                21 / 21, 100%\n",
            "Deleted:                1 (files), 0 (dirs)\n",
            "Transferred:            1 / 1, 100%\n",
            "Elapsed time:         5.6s\n",
            "\n"
          ]
        }
      ],
      "source": [
        "!rclone sync /content/drive/MyDrive remote:GG_Backup -v"
      ]
    },
    {
      "cell_type": "markdown",
      "source": [
        "# Mục mới"
      ],
      "metadata": {
        "id": "0v9r55cfZaME"
      }
    }
  ],
  "metadata": {
    "colab": {
      "provenance": [],
      "toc_visible": true,
      "include_colab_link": true
    },
    "kernelspec": {
      "display_name": "Python 3",
      "name": "python3"
    },
    "language_info": {
      "name": "python"
    }
  },
  "nbformat": 4,
  "nbformat_minor": 0
}