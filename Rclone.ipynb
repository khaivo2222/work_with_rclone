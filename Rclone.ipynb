{
  "cells": [
    {
      "cell_type": "markdown",
      "metadata": {
        "id": "view-in-github",
        "colab_type": "text"
      },
      "source": [
        "<a href=\"https://colab.research.google.com/github/khaivo2222/work_with_rclone/blob/main/Rclone.ipynb\" target=\"_parent\"><img src=\"https://colab.research.google.com/assets/colab-badge.svg\" alt=\"Open In Colab\"/></a>"
      ]
    },
    {
      "cell_type": "markdown",
      "metadata": {
        "id": "AFcx8wbx0I1W"
      },
      "source": [
        "# Cài đặt và khởi chạy Rclone"
      ]
    },
    {
      "cell_type": "code",
      "execution_count": 1,
      "metadata": {
        "colab": {
          "base_uri": "https://localhost:8080/"
        },
        "id": "34oUAqPu6Sdi",
        "outputId": "35f3e3cf-30bd-4637-b560-c389e30c5790"
      },
      "outputs": [
        {
          "output_type": "stream",
          "name": "stdout",
          "text": [
            "  % Total    % Received % Xferd  Average Speed   Time    Time     Time  Current\n",
            "                                 Dload  Upload   Total   Spent    Left  Speed\n",
            "100  4707  100  4707    0     0   3519      0  0:00:01  0:00:01 --:--:--  3517\n",
            "Archive:  rclone-current-linux-amd64.zip\n",
            "   creating: tmp_unzip_dir_for_rclone/rclone-v1.64.0-linux-amd64/\n",
            "  inflating: tmp_unzip_dir_for_rclone/rclone-v1.64.0-linux-amd64/rclone  [binary]\n",
            "  inflating: tmp_unzip_dir_for_rclone/rclone-v1.64.0-linux-amd64/rclone.1  [text]  \n",
            "  inflating: tmp_unzip_dir_for_rclone/rclone-v1.64.0-linux-amd64/README.html  [text]  \n",
            "  inflating: tmp_unzip_dir_for_rclone/rclone-v1.64.0-linux-amd64/git-log.txt  [text]  \n",
            "  inflating: tmp_unzip_dir_for_rclone/rclone-v1.64.0-linux-amd64/README.txt  [text]  \n",
            "Purging old database entries in /usr/share/man...\n",
            "Processing manual pages under /usr/share/man...\n",
            "Purging old database entries in /usr/share/man/cs...\n",
            "Processing manual pages under /usr/share/man/cs...\n",
            "Purging old database entries in /usr/share/man/ko...\n",
            "Processing manual pages under /usr/share/man/ko...\n",
            "Purging old database entries in /usr/share/man/de...\n",
            "Processing manual pages under /usr/share/man/de...\n",
            "Purging old database entries in /usr/share/man/pl...\n",
            "Processing manual pages under /usr/share/man/pl...\n",
            "Purging old database entries in /usr/share/man/zh_CN...\n",
            "Processing manual pages under /usr/share/man/zh_CN...\n",
            "Purging old database entries in /usr/share/man/fr...\n",
            "Processing manual pages under /usr/share/man/fr...\n",
            "Purging old database entries in /usr/share/man/sv...\n",
            "Processing manual pages under /usr/share/man/sv...\n",
            "Purging old database entries in /usr/share/man/da...\n",
            "Processing manual pages under /usr/share/man/da...\n",
            "Purging old database entries in /usr/share/man/ja...\n",
            "Processing manual pages under /usr/share/man/ja...\n",
            "Purging old database entries in /usr/share/man/it...\n",
            "Processing manual pages under /usr/share/man/it...\n",
            "Purging old database entries in /usr/share/man/nl...\n",
            "Processing manual pages under /usr/share/man/nl...\n",
            "Purging old database entries in /usr/share/man/pt_BR...\n",
            "Processing manual pages under /usr/share/man/pt_BR...\n",
            "Purging old database entries in /usr/share/man/id...\n",
            "Processing manual pages under /usr/share/man/id...\n",
            "Purging old database entries in /usr/share/man/sl...\n",
            "Processing manual pages under /usr/share/man/sl...\n",
            "Purging old database entries in /usr/share/man/es...\n",
            "Processing manual pages under /usr/share/man/es...\n",
            "Purging old database entries in /usr/share/man/tr...\n",
            "Processing manual pages under /usr/share/man/tr...\n",
            "Purging old database entries in /usr/share/man/ru...\n",
            "Processing manual pages under /usr/share/man/ru...\n",
            "Purging old database entries in /usr/share/man/hu...\n",
            "Processing manual pages under /usr/share/man/hu...\n",
            "Purging old database entries in /usr/share/man/zh_TW...\n",
            "Processing manual pages under /usr/share/man/zh_TW...\n",
            "Purging old database entries in /usr/share/man/pt...\n",
            "Processing manual pages under /usr/share/man/pt...\n",
            "Purging old database entries in /usr/share/man/uk...\n",
            "Processing manual pages under /usr/share/man/uk...\n",
            "Purging old database entries in /usr/share/man/sr...\n",
            "Processing manual pages under /usr/share/man/sr...\n",
            "Purging old database entries in /usr/share/man/ro...\n",
            "Processing manual pages under /usr/share/man/ro...\n",
            "Processing manual pages under /usr/local/man...\n",
            "mandb: can't update index cache /var/cache/man/oldlocal/400: No such file or directory\n",
            "Updating index cache for path `/usr/local/man/man1'. Wait...mandb: warning: /usr/local/man/man1/rclone.1: whatis parse for rclone(1) failed\n",
            "done.\n",
            "Checking for stray cats under /usr/local/man...\n",
            "Checking for stray cats under /var/cache/man/oldlocal...\n",
            "1 man subdirectory contained newer manual pages.\n",
            "4 manual pages were added.\n",
            "0 stray cats were added.\n",
            "18 old database entries were purged.\n",
            "\n",
            "rclone v1.64.0 has successfully installed.\n",
            "Now run \"rclone config\" for setup. Check https://rclone.org/docs/ for more details.\n",
            "\n"
          ]
        }
      ],
      "source": [
        "!sudo -v ; curl https://rclone.org/install.sh | sudo bash"
      ]
    },
    {
      "cell_type": "markdown",
      "source": [
        "# Kết nối google drive\n",
        "Nếu không chuyển file có liên quan tới goole drive thì không cần chạy lệnh này"
      ],
      "metadata": {
        "id": "bAgqoFJmKZlD"
      }
    },
    {
      "cell_type": "code",
      "source": [
        "\n",
        "from google.colab import drive\n",
        "drive.mount('/content/drive')"
      ],
      "metadata": {
        "colab": {
          "base_uri": "https://localhost:8080/"
        },
        "id": "RrLpXF0wcRvh",
        "outputId": "407b32cc-6b14-4479-fb42-c4c9420ea8ac"
      },
      "execution_count": 2,
      "outputs": [
        {
          "output_type": "stream",
          "name": "stdout",
          "text": [
            "Mounted at /content/drive\n"
          ]
        }
      ]
    },
    {
      "cell_type": "markdown",
      "source": [
        "# Tiến hành mount ổ cloud\n",
        "##Sau khi chạy lệnh bên dưới thì nhập theo hướng dẫn của nó\n",
        "nhập [n] để tạo mới > nhập tên > nhập số tương ứng với loại drive (vd mega là 29) > nhập user đăng nhập > nhập [y] > nhập password (nên đăng nhập trước trên web để check file về sau) > confirm lại password > nhập n > nhập y > nhập q để thoát"
      ],
      "metadata": {
        "id": "Zg6xCzU6K0fJ"
      }
    },
    {
      "cell_type": "code",
      "execution_count": null,
      "metadata": {
        "id": "Zv-a1Ha2AouA"
      },
      "outputs": [],
      "source": [
        "!rclone config"
      ]
    },
    {
      "cell_type": "markdown",
      "source": [
        "# Hiện list Folder\n",
        "## Sau khi đã gán được tài khoản theo tên (vd: remote) thì ta sẽ sử dụng tên này đễ hiện list folder mục đầu của ổ drive theo cú pháp:\n",
        "`!rclone lsd [tên]:`\n",
        "---\n"
      ],
      "metadata": {
        "id": "L8t8DIPzOdaK"
      }
    },
    {
      "cell_type": "code",
      "execution_count": null,
      "metadata": {
        "id": "7MozoMOFCZZe"
      },
      "outputs": [],
      "source": [
        "!rclone lsd remote: #nếu lệnh hiện ra các folder có trong drive thì kết nối thành công"
      ]
    },
    {
      "cell_type": "markdown",
      "source": [
        "#  Copy dữ liệu\n",
        "## Sử dụng cú pháp:\n",
        "\n",
        "`!rclone copy [Tên_ổ_nguồn]:[Folder_nguồn] [Tên_ổ_đích]:[Tên_folder] -v`\n",
        "\n",
        "*   Nếu tên thư mục có dấu cách thì thêm cập dấu nháy '' để tránh lỗi\n",
        "\n",
        "*   VD muốn copy toàn bộ file trên goole drive vào thư mục GG_Backup của ổ remote thì chạy lệnh:\n",
        "\n",
        "`!rclone copy /content/drive/MyDrive remote:GG_Backup`\n"
      ],
      "metadata": {
        "id": "3SRhISlQRGls"
      }
    },
    {
      "cell_type": "code",
      "execution_count": null,
      "metadata": {
        "id": "jj_EG0c6C0am"
      },
      "outputs": [],
      "source": [
        "!rclone copy /content/drive/MyDrive remote:GG_Backup -v"
      ]
    },
    {
      "cell_type": "markdown",
      "source": [
        "# Đồng bộ (sync) dữ liệu giữa 2 ổ\n",
        "## Thay chữ copy bằng sync:\n",
        "`!rclone sync [Tên_ổ_nguồn]:[Folder_nguồn] [Tên_ổ_đích]:[Tên_folder] -v`\n",
        "## Nhưng cần lưu ý dữ liệu ở thư mục đích sẽ bị xóa nếu nó không có trong thư mục nguồn\n",
        "\n"
      ],
      "metadata": {
        "id": "aDd4poB-Vqc7"
      }
    },
    {
      "cell_type": "markdown",
      "source": [],
      "metadata": {
        "id": "0gRG3OXsUMr8"
      }
    },
    {
      "cell_type": "code",
      "execution_count": null,
      "metadata": {
        "id": "PD03vPR0XhHx"
      },
      "outputs": [],
      "source": [
        "!rclone sync /content/drive/MyDrive remote:GG_Backup -v"
      ]
    }
  ],
  "metadata": {
    "colab": {
      "provenance": [],
      "toc_visible": true,
      "include_colab_link": true
    },
    "kernelspec": {
      "display_name": "Python 3",
      "name": "python3"
    },
    "language_info": {
      "name": "python"
    }
  },
  "nbformat": 4,
  "nbformat_minor": 0
}